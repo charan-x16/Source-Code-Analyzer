{
 "cells": [
  {
   "cell_type": "code",
   "execution_count": 1,
   "id": "bdaa6642",
   "metadata": {},
   "outputs": [
    {
     "name": "stdout",
     "output_type": "stream",
     "text": [
      "ok\n"
     ]
    }
   ],
   "source": [
    "print('ok')"
   ]
  },
  {
   "cell_type": "code",
   "execution_count": 1,
   "id": "6ba6bf91",
   "metadata": {},
   "outputs": [],
   "source": [
    "from git import Repo \n",
    "from langchain.text_splitter import Language\n",
    "from langchain.document_loaders.generic import GenericLoader\n",
    "from langchain.document_loaders.blob_loaders import FileSystemBlobLoader\n",
    "from langchain.document_loaders.parsers import LanguageParser\n",
    "from langchain.text_splitter import RecursiveCharacterTextSplitter\n",
    "from langchain.chains import ConversationalRetrievalChain\n",
    "from langchain.embeddings import HuggingFaceEmbeddings\n",
    "from langchain_openai import OpenAI\n",
    "from langchain.vectorstores import Chroma\n",
    "from langchain.memory import ConversationSummaryMemory\n",
    "from dotenv import load_dotenv\n",
    "import os"
   ]
  },
  {
   "cell_type": "code",
   "execution_count": 3,
   "id": "3bf324ca",
   "metadata": {},
   "outputs": [
    {
     "data": {
      "text/plain": [
       "'c:\\\\All folders\\\\Project Files\\\\Source-Code-Analyzer\\\\research'"
      ]
     },
     "execution_count": 3,
     "metadata": {},
     "output_type": "execute_result"
    }
   ],
   "source": [
    "%pwd"
   ]
  },
  {
   "cell_type": "code",
   "execution_count": 4,
   "id": "20908544",
   "metadata": {},
   "outputs": [],
   "source": [
    "!mkdir test_repo"
   ]
  },
  {
   "cell_type": "code",
   "execution_count": 5,
   "id": "db535dd7",
   "metadata": {},
   "outputs": [],
   "source": [
    "repo_path = \"test_repo/\"\n",
    "repo = Repo.clone_from('https://github.com/charan-x16/end-to-end-medical-chatbot-GEN-AI', to_path=repo_path)"
   ]
  },
  {
   "cell_type": "code",
   "execution_count": 6,
   "id": "f31ba50c",
   "metadata": {},
   "outputs": [],
   "source": [
    "blob_loader = FileSystemBlobLoader(repo_path, suffixes=[\".py\"])\n",
    "\n",
    "loader = GenericLoader(\n",
    "    blob_loader=blob_loader, \n",
    "    blob_parser=LanguageParser(language=Language.PYTHON, parser_threshold=500)  \n",
    ")"
   ]
  },
  {
   "cell_type": "code",
   "execution_count": 7,
   "id": "5d9bb0fb",
   "metadata": {},
   "outputs": [],
   "source": [
    "documents = loader.load()"
   ]
  },
  {
   "cell_type": "code",
   "execution_count": 8,
   "id": "767fcd4c",
   "metadata": {},
   "outputs": [
    {
     "data": {
      "text/plain": [
       "27"
      ]
     },
     "execution_count": 8,
     "metadata": {},
     "output_type": "execute_result"
    }
   ],
   "source": [
    "len(documents)"
   ]
  },
  {
   "cell_type": "code",
   "execution_count": 9,
   "id": "aa4a4bd0",
   "metadata": {},
   "outputs": [],
   "source": [
    "document_loader = RecursiveCharacterTextSplitter.from_language(language=Language.PYTHON,\n",
    "                                                               chunk_size=500,\n",
    "                                                               chunk_overlap = 20)"
   ]
  },
  {
   "cell_type": "code",
   "execution_count": 10,
   "id": "a4237d6e",
   "metadata": {},
   "outputs": [],
   "source": [
    "text = document_loader.split_documents(documents)"
   ]
  },
  {
   "cell_type": "code",
   "execution_count": 11,
   "id": "9f4a209e",
   "metadata": {},
   "outputs": [
    {
     "data": {
      "text/plain": [
       "98"
      ]
     },
     "execution_count": 11,
     "metadata": {},
     "output_type": "execute_result"
    }
   ],
   "source": [
    "len(text)"
   ]
  },
  {
   "cell_type": "code",
   "execution_count": 12,
   "id": "525c4cab",
   "metadata": {},
   "outputs": [],
   "source": [
    "def download_huggingface_embedding():\n",
    "     embeddings = HuggingFaceEmbeddings(model_name='sentence-transformers/all-MiniLM-L6-v2')\n",
    "     return embeddings"
   ]
  },
  {
   "cell_type": "code",
   "execution_count": 13,
   "id": "9c961ab0",
   "metadata": {},
   "outputs": [
    {
     "name": "stderr",
     "output_type": "stream",
     "text": [
      "C:\\Users\\chsri\\AppData\\Local\\Temp\\ipykernel_20280\\3981608823.py:2: LangChainDeprecationWarning: The class `HuggingFaceEmbeddings` was deprecated in LangChain 0.2.2 and will be removed in 1.0. An updated version of the class exists in the :class:`~langchain-huggingface package and should be used instead. To use it run `pip install -U :class:`~langchain-huggingface` and import as `from :class:`~langchain_huggingface import HuggingFaceEmbeddings``.\n",
      "  embeddings = HuggingFaceEmbeddings(model_name='sentence-transformers/all-MiniLM-L6-v2')\n",
      "c:\\All folders\\Project Files\\Source-Code-Analyzer\\scanalyzer\\Lib\\site-packages\\tqdm\\auto.py:21: TqdmWarning: IProgress not found. Please update jupyter and ipywidgets. See https://ipywidgets.readthedocs.io/en/stable/user_install.html\n",
      "  from .autonotebook import tqdm as notebook_tqdm\n"
     ]
    }
   ],
   "source": [
    "embedding = download_huggingface_embedding()"
   ]
  },
  {
   "cell_type": "code",
   "execution_count": 14,
   "id": "16d9b806",
   "metadata": {},
   "outputs": [],
   "source": [
    "vectordb = Chroma.from_documents(text, embedding=embedding, persist_directory='./db')"
   ]
  },
  {
   "cell_type": "code",
   "execution_count": 15,
   "id": "c9584090",
   "metadata": {},
   "outputs": [
    {
     "name": "stderr",
     "output_type": "stream",
     "text": [
      "C:\\Users\\chsri\\AppData\\Local\\Temp\\ipykernel_20280\\3711397106.py:1: LangChainDeprecationWarning: Since Chroma 0.4.x the manual persistence method is no longer supported as docs are automatically persisted.\n",
      "  vectordb.persist()\n"
     ]
    }
   ],
   "source": [
    "vectordb.persist()"
   ]
  },
  {
   "cell_type": "code",
   "execution_count": 54,
   "id": "80a9f15c",
   "metadata": {},
   "outputs": [
    {
     "data": {
      "text/plain": [
       "True"
      ]
     },
     "execution_count": 54,
     "metadata": {},
     "output_type": "execute_result"
    }
   ],
   "source": [
    "load_dotenv()"
   ]
  },
  {
   "cell_type": "code",
   "execution_count": null,
   "id": "f76b1663",
   "metadata": {},
   "outputs": [],
   "source": [
    "OPENROUTER_API_KEY = os.environ.get('OPENROUTER_API_KEY')\n",
    "#print(OPENROUTER_API_KEY)"
   ]
  },
  {
   "cell_type": "code",
   "execution_count": 77,
   "id": "396a47d4",
   "metadata": {},
   "outputs": [],
   "source": [
    "\n",
    "llm = OpenAI(model= 'qwen/qwen3-4b:free',\n",
    "             base_url=\"https://openrouter.ai/api/v1\",\n",
    "             api_key=OPENROUTER_API_KEY,\n",
    ")"
   ]
  },
  {
   "cell_type": "code",
   "execution_count": null,
   "id": "720c905e",
   "metadata": {},
   "outputs": [],
   "source": [
    "\n",
    "memory = ConversationSummaryMemory(llm=llm, memory_key=\"chat_history\", return_messages=True)\n",
    "\n",
    "rag_chain = ConversationalRetrievalChain.from_llm(\n",
    "    llm=llm,\n",
    "    retriever=vectordb.as_retriever(search_type='mmr', search_kwargs={'k':8}),\n",
    "    memory=memory\n",
    ")\n"
   ]
  },
  {
   "cell_type": "code",
   "execution_count": 82,
   "id": "2553aa53",
   "metadata": {},
   "outputs": [
    {
     "name": "stdout",
     "output_type": "stream",
     "text": [
      "['question', 'chat_history']\n"
     ]
    }
   ],
   "source": [
    "print(rag_chain.input_keys)"
   ]
  },
  {
   "cell_type": "code",
   "execution_count": 79,
   "id": "f16810e1",
   "metadata": {},
   "outputs": [],
   "source": [
    "question = \"what is download_hugging_face_embeddings funtion?\"\n"
   ]
  },
  {
   "cell_type": "code",
   "execution_count": null,
   "id": "362aaabe",
   "metadata": {},
   "outputs": [],
   "source": [
    "result = rag_chain(question)\n",
    "print(result['answer'])"
   ]
  }
 ],
 "metadata": {
  "kernelspec": {
   "display_name": "scanalyzer",
   "language": "python",
   "name": "python3"
  },
  "language_info": {
   "codemirror_mode": {
    "name": "ipython",
    "version": 3
   },
   "file_extension": ".py",
   "mimetype": "text/x-python",
   "name": "python",
   "nbconvert_exporter": "python",
   "pygments_lexer": "ipython3",
   "version": "3.12.1"
  }
 },
 "nbformat": 4,
 "nbformat_minor": 5
}
